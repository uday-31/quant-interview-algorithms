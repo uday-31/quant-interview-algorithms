{
 "cells": [
  {
   "cell_type": "code",
   "execution_count": 1,
   "id": "392c15d3",
   "metadata": {},
   "outputs": [],
   "source": [
    "import random"
   ]
  },
  {
   "cell_type": "code",
   "execution_count": 93,
   "id": "17f1dcc4",
   "metadata": {},
   "outputs": [],
   "source": [
    "def printResults(func):\n",
    "    arr = arr = [random.randint(1,100) for i in range(10)]\n",
    "    arrCopy = arr.copy()\n",
    "    print(f\"Array before sorting: {arr}\")\n",
    "    sortedArray = func(arrCopy)\n",
    "    print(f\"Sorted array: {sortedArray}\")\n",
    "    if sortedArray==sorted(arr):\n",
    "        print(\"Pass\")\n",
    "    else:\n",
    "        print(\"Fail\")"
   ]
  },
  {
   "cell_type": "markdown",
   "id": "f3d82a43",
   "metadata": {},
   "source": [
    "# Insertion Sort\n",
    "Incremental approach\n",
    "\n",
    "* Start with a sorted subset of the array, having length = 1.\n",
    "* Iterate from the second element to the end\n",
    "* On each step, compare the new element to the ones in the sorted subset\n",
    "* Keep shifting the sorted elements to the right till the new element is smaller\n",
    "* Insert the new element\n",
    "\n",
    "| Time Complexity | Value |\n",
    "| :------------: | :-----: |\n",
    "| Worst | $n^2$ |\n",
    "| Average | $n^2$ |\n",
    "| Best | $n$ |"
   ]
  },
  {
   "cell_type": "code",
   "execution_count": 94,
   "id": "73e6c747",
   "metadata": {},
   "outputs": [],
   "source": [
    "def insertionSort(arr):\n",
    "    \n",
    "    # Iterate over array from second element to the end\n",
    "    for i in range(1, len(arr)):\n",
    "        \n",
    "        # Temporarily store the element after the \"sorted\" subset\n",
    "        insertor = arr[i]\n",
    "        \n",
    "        j = i-1\n",
    "        # Shift elements to the right until insertor is greater\n",
    "        while j>=0 and insertor<arr[j]:\n",
    "            arr[j+1]=arr[j]\n",
    "            j-=1\n",
    "        \n",
    "        # Add insertor\n",
    "        arr[j+1] = insertor\n",
    "    \n",
    "    return arr"
   ]
  },
  {
   "cell_type": "code",
   "execution_count": 95,
   "id": "fe62da34",
   "metadata": {},
   "outputs": [
    {
     "name": "stdout",
     "output_type": "stream",
     "text": [
      "Array before sorting: [72, 30, 26, 48, 35, 18, 4, 79, 41, 3]\n",
      "Sorted array: [3, 4, 18, 26, 30, 35, 41, 48, 72, 79]\n",
      "Pass\n"
     ]
    }
   ],
   "source": [
    "printResults(insertionSort)"
   ]
  },
  {
   "cell_type": "markdown",
   "id": "fa88f9b7",
   "metadata": {},
   "source": [
    "# Merge Sort\n",
    "\n",
    "Divide and conquer paradigm\n",
    "\n",
    "* Recursively, divide array into two subarrays with the middle index\n",
    "* Merge the subarrays: compare left and right one by one and add smaller value to sorted list till one is empty, then append the leftover items\n",
    "\n",
    "| Time Complexity | Value |\n",
    "| :------------: | :-----: |\n",
    "| Worst | $n$log$(n)$ |\n",
    "| Average | $n$log$(n)$ |\n",
    "| Best | $n$log$(n)$ |"
   ]
  },
  {
   "cell_type": "code",
   "execution_count": 96,
   "id": "ae128247",
   "metadata": {},
   "outputs": [],
   "source": [
    "def merge(merge1, merge2):\n",
    "    k = []\n",
    "    \n",
    "    i=0\n",
    "    j=0\n",
    "    \n",
    "    # Check elements between the two lists one by one\n",
    "    # Append the smaller value to the sorted list\n",
    "    while i<len(merge1) and j<len(merge2):\n",
    "        if merge1[i]<merge2[j]:\n",
    "            k.append(merge1[i])\n",
    "            i+=1\n",
    "        else:\n",
    "            k.append(merge2[j])\n",
    "            j+=1\n",
    "            \n",
    "    # Add leftover elements to the merged list\n",
    "    for index in range(i,len(merge1)):\n",
    "        k.append(merge1[index])\n",
    "    for index in range(j, len(merge2)):\n",
    "        k.append(merge2[index])\n",
    "    \n",
    "    return k\n",
    "\n",
    "def mergeSort(arr):\n",
    "    \n",
    "    # If array is longer than 1\n",
    "    if len(arr)>1:\n",
    "        \n",
    "        # Find the middle index\n",
    "        mid = len(arr)//2\n",
    "        \n",
    "        # Recursively call algorithm on each half\n",
    "        merge1 = mergeSort(arr[:mid])\n",
    "        merge2 = mergeSort(arr[mid:])\n",
    "        \n",
    "        # Merge the two lists\n",
    "        merged = merge(merge1, merge2)\n",
    "        \n",
    "        return merged\n",
    "    \n",
    "    # Otherwise return the array itself\n",
    "    else:\n",
    "        return arr"
   ]
  },
  {
   "cell_type": "code",
   "execution_count": 99,
   "id": "dda2b508",
   "metadata": {},
   "outputs": [
    {
     "name": "stdout",
     "output_type": "stream",
     "text": [
      "Array before sorting: [48, 93, 70, 79, 53, 68, 22, 7, 47, 11]\n",
      "Sorted array: [7, 11, 22, 47, 48, 53, 68, 70, 79, 93]\n",
      "Pass\n"
     ]
    }
   ],
   "source": [
    "printResults(mergeSort)"
   ]
  },
  {
   "cell_type": "markdown",
   "id": "c2b48c2d",
   "metadata": {},
   "source": [
    "# Quicksort\n",
    "\n",
    "Divide and conquer paradigm\n",
    "\n",
    "* Pick a pivot (say, first value in the list)\n",
    "* Take two indices, one starts from the beginning (after pivot), say L, and the other from the end, say R\n",
    "* Keep incrementing L to the right and R to the left, and swap them, till R crosses L\n",
    "* Swap the pivot with R\n",
    "* Run the same algorithm for the parts to the left and right of the pivot\n",
    "\n",
    "| Time Complexity | Value |\n",
    "| :------------: | :-----: |\n",
    "| Worst | $n^2$ |\n",
    "| Average | $n$log$(n)$ |\n",
    "| Best | $n$log$(n)$ |"
   ]
  },
  {
   "cell_type": "code",
   "execution_count": 121,
   "id": "9bed45ba",
   "metadata": {},
   "outputs": [],
   "source": [
    "def partition(arr):\n",
    "    \n",
    "    if len(arr)>1:\n",
    "        \n",
    "        # First element is the pivot\n",
    "        # i starts at the element after pivot\n",
    "        # j starts from the last element\n",
    "        i=1\n",
    "        j=len(arr)-1\n",
    "        pivot = arr[0]\n",
    "        \n",
    "        # While i is before j\n",
    "        while i<j:\n",
    "\n",
    "            # Increment i as long as it is smaller than pivot\n",
    "            while i<len(arr) and arr[i]<=pivot:\n",
    "                i+=1\n",
    "            \n",
    "            # Decrement j as long as it is greater than pivot\n",
    "            while arr[j]>pivot:\n",
    "                j-=1\n",
    "            \n",
    "            # If i is before j, swap i and j\n",
    "            if i<j:\n",
    "                arr[i], arr[j] = arr[j], arr[i]\n",
    "        \n",
    "        # Swap the pivot with j\n",
    "        if j<=i:\n",
    "            if arr[0]>arr[j]:\n",
    "                arr[j], arr[0] = arr[0], arr[j]\n",
    "        \n",
    "        return arr, j\n",
    "            \n",
    "    else:\n",
    "        return arr, 0\n",
    "\n",
    "def quickSort(arr):\n",
    "    \n",
    "    if len(arr)>1:\n",
    "        \n",
    "        # Get the array with the partition at index part\n",
    "        # Array to the left of arr[part] is smaller than it, and to the right bigger\n",
    "        arr, part = partition(arr)\n",
    "        \n",
    "        # Run the same algorithm on the left and right parts\n",
    "        arr[:part]=quickSort(arr[:part])\n",
    "        arr[part+1:]=quickSort(arr[part+1:])\n",
    "        \n",
    "    return arr"
   ]
  },
  {
   "cell_type": "code",
   "execution_count": 138,
   "id": "2e5ae9cc",
   "metadata": {},
   "outputs": [
    {
     "name": "stdout",
     "output_type": "stream",
     "text": [
      "Array before sorting: [2, 12, 66, 73, 85, 3, 41, 27, 7, 97]\n",
      "Sorted array: [2, 3, 7, 12, 27, 41, 66, 73, 85, 97]\n",
      "Pass\n"
     ]
    }
   ],
   "source": [
    "printResults(quickSort)"
   ]
  }
 ],
 "metadata": {
  "kernelspec": {
   "display_name": "Python 3",
   "language": "python",
   "name": "python3"
  },
  "language_info": {
   "codemirror_mode": {
    "name": "ipython",
    "version": 3
   },
   "file_extension": ".py",
   "mimetype": "text/x-python",
   "name": "python",
   "nbconvert_exporter": "python",
   "pygments_lexer": "ipython3",
   "version": "3.7.10"
  }
 },
 "nbformat": 4,
 "nbformat_minor": 5
}
